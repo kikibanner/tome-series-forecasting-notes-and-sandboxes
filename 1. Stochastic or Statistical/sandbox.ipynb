{
 "cells": [
  {
   "cell_type": "markdown",
   "id": "771f6a50-4678-4ba8-901b-d82cc909df09",
   "metadata": {},
   "source": [
    "Kalo biasanya cross-sectional data. Objective kali ini adalah data time-series data."
   ]
  },
  {
   "cell_type": "markdown",
   "id": "a6bfaf6e-7ea8-4b7b-adc5-70ce72cc738d",
   "metadata": {},
   "source": [
    "Di lapangan, biasany dataset tsb merupakan hybrid dari kedua jenis data tersebut"
   ]
  },
  {
   "cell_type": "markdown",
   "id": "2b3b6b77-0476-44da-90c1-79251d098d0a",
   "metadata": {},
   "source": [
    "#### What is Time-Series Forecasting?\n",
    "- Predicting unknown values\n",
    "- pengaplikasiannya contohnya adalah untuk budgetting atau planning kedepannya, atau ngeschedule sesuatu\n",
    "- Terus misal google, telkom indonesia, untuk mengetahui jam2 sibuk (traffic). tujuannya misal untuk ngescaling kemampuan server pada waktu tertentu "
   ]
  },
  {
   "cell_type": "markdown",
   "id": "1f1fc702-9b19-4c91-a5b6-140162fcee32",
   "metadata": {},
   "source": [
    "#### Types of Time-Series Forecasting\n",
    "Ada tiga jenis berdasarkan tipe data dan use-casenya\n",
    "1. Univariate Forecast\n",
    "- SIngle variable\n",
    "2. Multivariate\n",
    "- Multi variabel\n",
    "- Variabelnya ga cuma depends on past value tapi juga deponds on other variables\n",
    "- "
   ]
  },
  {
   "cell_type": "code",
   "execution_count": null,
   "id": "8fc47c46-1f2b-45eb-a0df-02f12fb6cc67",
   "metadata": {},
   "outputs": [],
   "source": []
  }
 ],
 "metadata": {
  "kernelspec": {
   "display_name": "Python 3 (ipykernel)",
   "language": "python",
   "name": "python3"
  },
  "language_info": {
   "codemirror_mode": {
    "name": "ipython",
    "version": 3
   },
   "file_extension": ".py",
   "mimetype": "text/x-python",
   "name": "python",
   "nbconvert_exporter": "python",
   "pygments_lexer": "ipython3",
   "version": "3.8.12"
  }
 },
 "nbformat": 4,
 "nbformat_minor": 5
}
